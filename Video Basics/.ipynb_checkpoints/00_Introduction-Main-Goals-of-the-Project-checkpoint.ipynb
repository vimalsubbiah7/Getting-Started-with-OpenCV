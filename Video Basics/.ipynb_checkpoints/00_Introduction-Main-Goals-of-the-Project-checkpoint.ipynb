{
 "cells": [
  {
   "cell_type": "markdown",
   "metadata": {},
   "source": [
    "### Tasks"
   ]
  },
  {
   "cell_type": "markdown",
   "metadata": {},
   "source": [
    "- Connect to your Computer's Camera\n",
    "- Open Video Files\n",
    "- Draw on Live Video\n",
    "- Draw on Live Video (Interact Part_1)\n",
    "- Draw on Live Video (Interact Part_2)\n",
    "- Face Detection"
   ]
  },
  {
   "cell_type": "markdown",
   "metadata": {},
   "source": [
    "You can Run the cell by:\n",
    "- clicking on the Run button\n",
    "- Shift + Enter (<b>Windows</b>).\n",
    "- Control + Enter (<b>Mac</b>)"
   ]
  },
  {
   "cell_type": "markdown",
   "metadata": {},
   "source": [
    "When we have finished with our Jupyter Notebook we go to:"
   ]
  },
  {
   "cell_type": "markdown",
   "metadata": {},
   "source": [
    "<b>File</b> -> <b>Save and Checkpoint</b> and then"
   ]
  },
  {
   "cell_type": "markdown",
   "metadata": {},
   "source": [
    "<b>File</b> -> <b>Close and Halt</b>"
   ]
  },
  {
   "cell_type": "code",
   "execution_count": null,
   "metadata": {},
   "outputs": [],
   "source": []
  }
 ],
 "metadata": {
  "kernelspec": {
   "display_name": "Python 3",
   "language": "python",
   "name": "python3"
  },
  "language_info": {
   "codemirror_mode": {
    "name": "ipython",
    "version": 3
   },
   "file_extension": ".py",
   "mimetype": "text/x-python",
   "name": "python",
   "nbconvert_exporter": "python",
   "pygments_lexer": "ipython3",
   "version": "3.7.4"
  }
 },
 "nbformat": 4,
 "nbformat_minor": 2
}
