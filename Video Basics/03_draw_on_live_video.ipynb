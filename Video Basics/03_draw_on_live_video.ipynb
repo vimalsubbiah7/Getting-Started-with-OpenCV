{
 "cells": [
  {
   "cell_type": "code",
   "execution_count": 1,
   "metadata": {},
   "outputs": [],
   "source": [
    "# Import Libraries\n",
    "\n",
    "import cv2\n",
    "\n",
    "# Take a video. 0 means the camera of my computer\n",
    "cap =cv2.VideoCapture(0)\n",
    "\n",
    "\n",
    "# Get the Width and Height of the Video Frame\n",
    "width = int(cap.get(cv2.CAP_PROP_FRAME_WIDTH))\n",
    "height= int(cap.get(cv2.CAP_PROP_FRAME_HEIGHT))\n",
    "\n",
    "\n",
    "# Top Left Corner\n",
    "# We devide with // the Width and Height of the Frame\n",
    "# in order to get an Integer as a Result\n",
    "x = width //2\n",
    "y = height//2\n",
    "\n",
    "# Rectangle Width and Height\n",
    "# 1/4 of the Actual Video Screen\n",
    "w = width//4\n",
    "h = height//4\n",
    "\n",
    "\n",
    "# Bottom Right Corner == x + w, y + h\n",
    "\n",
    "\n",
    "\n",
    "# It's a kind of Magic!\n",
    "while True:\n",
    "    ret, frame = cap.read()\n",
    "\n",
    "    # Rectangle Frame\n",
    "    cv2.rectangle(frame, (x,y),\n",
    "                 (x+w,  y+h),\n",
    "                 color =(255,0,255),\n",
    "                 thickness =5)\n",
    "    \n",
    "    # Show it\n",
    "    cv2.imshow('frame', frame)\n",
    "    \n",
    "    # 27 == esc button. You can use any other button like ord('q')\n",
    "    # If you try to close the window pressing the x you'll get in trouble (^_^)\n",
    "    if cv2.waitKey(3) & 0xFF ==27:\n",
    "        break\n",
    "    \n",
    "    \n",
    "# Never forget first to release\n",
    "# And then to destroy\n",
    "cap.release()\n",
    "cv2.destroyAllWindows()\n",
    "\n"
   ]
  },
  {
   "cell_type": "code",
   "execution_count": null,
   "metadata": {},
   "outputs": [],
   "source": []
  }
 ],
 "metadata": {
  "kernelspec": {
   "display_name": "Python 3",
   "language": "python",
   "name": "python3"
  },
  "language_info": {
   "codemirror_mode": {
    "name": "ipython",
    "version": 3
   },
   "file_extension": ".py",
   "mimetype": "text/x-python",
   "name": "python",
   "nbconvert_exporter": "python",
   "pygments_lexer": "ipython3",
   "version": "3.7.4"
  }
 },
 "nbformat": 4,
 "nbformat_minor": 4
}
